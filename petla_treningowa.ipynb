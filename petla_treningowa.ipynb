{
 "cells": [
  {
   "cell_type": "code",
   "execution_count": 1,
   "id": "4c14a614",
   "metadata": {},
   "outputs": [],
   "source": [
    "import random"
   ]
  },
  {
   "cell_type": "code",
   "execution_count": 44,
   "id": "2b61d163",
   "metadata": {},
   "outputs": [],
   "source": [
    "# parametry\n",
    "lerning_rate = 0.01\n",
    "epochs = 100\n",
    "# dane treningowe\n",
    "x_train = [1, 3, 4, 5, 7, 12, 9]\n",
    "y_train = [10,30,40,50,70,120,90]\n",
    "# dane testowe\n",
    "x_test = [6, 7, 8, 9, 10, 11]\n",
    "y_test = [60,70,80,90,100,110]\n",
    "# parametr modelu\n",
    "a1 = random.randint(-5,-1)"
   ]
  },
  {
   "cell_type": "code",
   "execution_count": 45,
   "id": "5c66a953",
   "metadata": {},
   "outputs": [
    {
     "name": "stdout",
     "output_type": "stream",
     "text": [
      "wzor modelu przed treningiem: y = -2 * x1\n",
      "wartosc parametru modelu a1 przed treningiem = -2\n",
      "sredni blad prognozy modelu przed treningiem = -70.28571428571429\n",
      "################################################\n",
      "prognoza dla x = 1 ; wynosi = -2 ; prawdziwa wartosc = 10\n",
      "prognoza dla x = 3 ; wynosi = -6 ; prawdziwa wartosc = 30\n",
      "prognoza dla x = 4 ; wynosi = -8 ; prawdziwa wartosc = 40\n",
      "prognoza dla x = 5 ; wynosi = -10 ; prawdziwa wartosc = 50\n",
      "prognoza dla x = 7 ; wynosi = -14 ; prawdziwa wartosc = 70\n",
      "prognoza dla x = 12 ; wynosi = -24 ; prawdziwa wartosc = 120\n",
      "prognoza dla x = 9 ; wynosi = -18 ; prawdziwa wartosc = 90\n"
     ]
    }
   ],
   "source": [
    "print(f\"wzor modelu przed treningiem: y = {a1} * x1\")\n",
    "print(f\"wartosc parametru modelu a1 przed treningiem = {a1}\")\n",
    "error_init = 0\n",
    "for i in range(len(x_train)):\n",
    "    error_init = error_init + (x_train[i]*a1 - y_train[i])\n",
    "print(f\"sredni blad prognozy modelu przed treningiem = {error_init/ len(x_train)}\")\n",
    "print(\"################################################\")\n",
    "\n",
    "for i in range(len(x_train)):\n",
    "    print(f\"prognoza dla x = {x_train[i]} ; wynosi = {x_train[i]*a1} ; prawdziwa wartosc = {y_train[i]}\")\n"
   ]
  },
  {
   "cell_type": "code",
   "execution_count": 46,
   "id": "d09b5021",
   "metadata": {},
   "outputs": [
    {
     "name": "stdout",
     "output_type": "stream",
     "text": [
      "wartosc wagi a1 = -1.2971428571428572 ; średni blad = -70.28571428571429\n",
      "wartosc wagi a1 = -0.6354530612244899 ; średni blad = -66.16897959183673\n",
      "wartosc wagi a1 = -0.012519381924198325 ; średni blad = -62.293367930029156\n",
      "wartosc wagi a1 = 0.573928181874219 ; średni blad = -58.64475637984173\n",
      "wartosc wagi a1 = 1.126026674078729 ; średni blad = -55.209849220451005\n",
      "wartosc wagi a1 = 1.645787968882689 ; średni blad = -51.97612948039602\n",
      "wartosc wagi a1 = 2.1351061021338458 ; średni blad = -48.93181332511568\n",
      "wartosc wagi a1 = 2.5957641732945778 ; średni blad = -46.06580711607319\n",
      "wartosc wagi a1 = 3.029440843144467 ; średni blad = -43.3676669849889\n",
      "wartosc wagi a1 = 3.437716450903148 ; średni blad = -40.82756077586812\n",
      "wartosc wagi a1 = 3.8220787730645354 ; średni blad = -38.436232216138706\n",
      "wartosc wagi a1 = 4.183928444927898 ; średni blad = -36.184967186336294\n",
      "wartosc wagi a1 = 4.524584064582121 ; średni blad = -34.06556196542231\n",
      "wartosc wagi a1 = 4.845286997942311 ; średni blad = -32.070293336019006\n",
      "wartosc wagi a1 = 5.147205902348547 ; średni blad = -30.191890440623606\n",
      "wartosc wagi a1 = 5.431440985210989 ; średni blad = -28.42350828624422\n",
      "wartosc wagi a1 = 5.699028013220059 ; średni blad = -26.758702800907066\n",
      "wartosc wagi a1 = 5.950942086731455 ; średni blad = -25.19140735113965\n",
      "wartosc wagi a1 = 6.188101193080041 ; średni blad = -23.71591063485862\n",
      "wartosc wagi a1 = 6.411369551771068 ; średni blad = -22.326835869102613\n",
      "wartosc wagi a1 = 6.621560763738763 ; średni blad = -21.019121196769458\n",
      "wartosc wagi a1 = 6.819440776148349 ; średni blad = -19.788001240958675\n",
      "wartosc wagi a1 = 7.005730673545375 ; średni blad = -18.628989739702526\n",
      "wartosc wagi a1 = 7.181109305523432 ; średni blad = -17.53786319780566\n",
      "wartosc wagi a1 = 7.346215760485631 ; średni blad = -16.5106454962199\n",
      "wartosc wagi a1 = 7.5016516945143294 ; średni blad = -15.543593402869876\n",
      "wartosc wagi a1 = 7.647983523835633 ; średni blad = -14.633182932130357\n",
      "wartosc wagi a1 = 7.785744488868117 ; średni blad = -13.776096503248437\n",
      "wartosc wagi a1 = 7.91543659737727 ; średni blad = -12.969210850915315\n",
      "wartosc wagi a1 = 8.0375324538166 ; średni blad = -12.209585643933133\n",
      "wartosc wagi a1 = 8.152476981521628 ; średni blad = -11.49445277050277\n",
      "wartosc wagi a1 = 8.260689044032505 ; średni blad = -10.821206251087606\n",
      "wartosc wagi a1 = 8.362562971453459 ; średni blad = -10.187392742095328\n",
      "wartosc wagi a1 = 8.458469997411184 ; średni blad = -9.590702595772598\n",
      "wartosc wagi a1 = 8.54875961184853 ; średni blad = -9.028961443734495\n",
      "wartosc wagi a1 = 8.633760834583116 ; średni blad = -8.500122273458613\n",
      "wartosc wagi a1 = 8.71378341427182 ; średni blad = -8.00225796887032\n",
      "wartosc wagi a1 = 8.789118957150185 ; średni blad = -7.533554287836485\n",
      "wartosc wagi a1 = 8.86004198965996 ; średni blad = -7.092303250977489\n",
      "wartosc wagi a1 = 8.92681095883702 ; średni blad = -6.676896917705949\n",
      "wartosc wagi a1 = 8.989669174105137 ; średni blad = -6.285821526811739\n",
      "wartosc wagi a1 = 9.04884569390755 ; średni blad = -5.917651980241344\n",
      "wartosc wagi a1 = 9.10455616040725 ; średni blad = -5.571046649970064\n",
      "wartosc wagi a1 = 9.157003585297684 ; średni blad = -5.244742489043245\n",
      "wartosc wagi a1 = 9.20637908958739 ; średni blad = -4.9375504289707095\n",
      "wartosc wagi a1 = 9.252862600054414 ; średni blad = -4.64835104670243\n",
      "wartosc wagi a1 = 9.29662350490837 ; średni blad = -4.3760904853955775\n",
      "wartosc wagi a1 = 9.337821271049451 ; średni blad = -4.11977661410812\n",
      "wartosc wagi a1 = 9.376606025173698 ; średni blad = -3.878475412424642\n",
      "wartosc wagi a1 = 9.413119100842096 ; średni blad = -3.6513075668397668\n",
      "wartosc wagi a1 = 9.447493553507059 ; średni blad = -3.4374452664962973\n",
      "wartosc wagi a1 = 9.479854645373074 ; średni blad = -3.236109186601514\n",
      "wartosc wagi a1 = 9.510320301858364 ; średni blad = -3.04656564852914\n",
      "wartosc wagi a1 = 9.539001541320946 ; średni blad = -2.8681239462581525\n",
      "wartosc wagi a1 = 9.566002879615006 ; średni blad = -2.7001338294058876\n",
      "wartosc wagi a1 = 9.591422710951841 ; średni blad = -2.5419831336835372\n",
      "wartosc wagi a1 = 9.615353666453233 ; średni blad = -2.3930955501392157\n",
      "wartosc wagi a1 = 9.63788295170383 ; średni blad = -2.252928525059635\n",
      "wartosc wagi a1 = 9.659092664532606 ; średni blad = -2.1209712828775684\n",
      "wartosc wagi a1 = 9.679060094181411 ; średni blad = -1.996742964880451\n",
      "wartosc wagi a1 = 9.697858002950785 ; średni blad = -1.8797908769374494\n",
      "wartosc wagi a1 = 9.715554891349381 ; średni blad = -1.7696888398596908\n",
      "wartosc wagi a1 = 9.732215247713203 ; średni blad = -1.6660356363821964\n",
      "wartosc wagi a1 = 9.747899783204288 ; średni blad = -1.5684535491083835\n",
      "wartosc wagi a1 = 9.762665653045179 ; średni blad = -1.476586984089174\n",
      "wartosc wagi a1 = 9.77656666479539 ; średni blad = -1.3901011750210952\n",
      "wartosc wagi a1 = 9.789653474428802 ; średni blad = -1.3086809633412915\n",
      "wartosc wagi a1 = 9.801973770926542 ; średni blad = -1.2320296497741636\n",
      "wartosc wagi a1 = 9.813572450057988 ; średni blad = -1.1598679131445382\n",
      "wartosc wagi a1 = 9.824491777983162 ; średni blad = -1.0919327925175002\n",
      "wartosc wagi a1 = 9.83477154527272 ; średni blad = -1.0279767289557629\n",
      "wartosc wagi a1 = 9.844449211906745 ; średni blad = -0.9677666634026443\n",
      "wartosc wagi a1 = 9.85356004378078 ; średni blad = -0.9110831874033474\n",
      "wartosc wagi a1 = 9.862137241216477 ; średni blad = -0.8577197435697196\n",
      "wartosc wagi a1 = 9.870212059945226 ; średni blad = -0.8074818728749226\n",
      "wartosc wagi a1 = 9.877813925005578 ; średni blad = -0.7601865060351033\n",
      "wartosc wagi a1 = 9.884970537969537 ; średni blad = -0.7156612963959014\n",
      "wartosc wagi a1 = 9.891707977888464 ; średni blad = -0.6737439918927147\n",
      "wartosc wagi a1 = 9.898050796326425 ; średni blad = -0.6342818437961417\n",
      "wartosc wagi a1 = 9.904022106827306 ; średni blad = -0.5971310500880822\n",
      "wartosc wagi a1 = 9.909643669141706 ; średni blad = -0.5621562314400675\n",
      "wartosc wagi a1 = 9.914935968520549 ; średni blad = -0.5292299378842917\n",
      "wartosc wagi a1 = 9.919918290364345 ; średni blad = -0.4982321843796415\n",
      "wartosc wagi a1 = 9.924608790500148 ; średni blad = -0.4690500135802638\n",
      "wartosc wagi a1 = 9.929024561342283 ; średni blad = -0.44157708421341874\n",
      "wartosc wagi a1 = 9.93318169417795 ; średni blad = -0.4157132835666274\n",
      "wartosc wagi a1 = 9.93709533780467 ; średni blad = -0.39136436267200736\n",
      "wartosc wagi a1 = 9.940779753733255 ; średni blad = -0.36844159285835737\n",
      "wartosc wagi a1 = 9.94424836815745 ; średni blad = -0.3468614424195083\n",
      "wartosc wagi a1 = 9.947513820879657 ; średni blad = -0.32654527222065405\n",
      "wartosc wagi a1 = 9.950588011370991 ; średni blad = -0.30741904913344037\n",
      "wartosc wagi a1 = 9.953482142133547 ; średni blad = -0.28941307625562296\n",
      "wartosc wagi a1 = 9.956206759522868 ; średni blad = -0.2724617389320816\n",
      "wartosc wagi a1 = 9.958771792179386 ; średni blad = -0.256503265651775\n",
      "wartosc wagi a1 = 9.961186587208879 ; średni blad = -0.2414795029493114\n",
      "wartosc wagi a1 = 9.963459944243787 ; średni blad = -0.22733570349085447\n",
      "wartosc wagi a1 = 9.965600147509509 ; średni blad = -0.2140203265721021\n",
      "wartosc wagi a1 = 9.967614996012523 ; średni blad = -0.20148485030144872\n",
      "wartosc wagi a1 = 9.96951183196036 ; średni blad = -0.18968359478379096\n",
      "wartosc wagi a1 = 9.971297567516968 ; średni blad = -0.17857355566074368\n"
     ]
    }
   ],
   "source": [
    "# petla treningowa\n",
    "while epochs > 0:\n",
    "    error_sum = 0\n",
    "    for i in range(len(x_train)):\n",
    "        y_pred = a1 * x_train[i]\n",
    "        error = y_pred - y_train[i]\n",
    "        error_sum = error_sum + error\n",
    "    avg_error = error_sum / len(x_train)\n",
    "    update = avg_error * lerning_rate\n",
    "    a1 = a1 - update\n",
    "    print(f\"wartosc wagi a1 = {a1} ; średni blad = {avg_error}\")\n",
    "    epochs = epochs- 1\n"
   ]
  },
  {
   "cell_type": "code",
   "execution_count": 47,
   "id": "88c610e8",
   "metadata": {},
   "outputs": [
    {
     "name": "stdout",
     "output_type": "stream",
     "text": [
      "wzor modelu po treningu: y = 9.971297567516968 * x1\n",
      "wartosc parametru modelu a1 po treningu = 9.971297567516968\n",
      "sredni blad prognozy modelu po treningu -0.24397067610576784\n"
     ]
    }
   ],
   "source": [
    "print(f\"wzor modelu po treningu: y = {a1} * x1\")\n",
    "print(f\"wartosc parametru modelu a1 po treningu = {a1}\")\n",
    "\n",
    "error_init = 0\n",
    "for i in range(len(x_test)):\n",
    "    error_init = error_init + (x_test[i]*a1 - y_test[i])\n",
    "print(f\"sredni blad prognozy modelu po treningu {error_init/ len(x_test)}\")"
   ]
  },
  {
   "cell_type": "code",
   "execution_count": 48,
   "id": "bc74aeb7",
   "metadata": {},
   "outputs": [
    {
     "name": "stdout",
     "output_type": "stream",
     "text": [
      "prognoza dla x = 6 ; wynosi = 59.82778540510181 ; prawdziwa wartosc = 60\n",
      "prognoza dla x = 7 ; wynosi = 69.79908297261878 ; prawdziwa wartosc = 70\n",
      "prognoza dla x = 8 ; wynosi = 79.77038054013575 ; prawdziwa wartosc = 80\n",
      "prognoza dla x = 9 ; wynosi = 89.74167810765272 ; prawdziwa wartosc = 90\n",
      "prognoza dla x = 10 ; wynosi = 99.71297567516969 ; prawdziwa wartosc = 100\n",
      "prognoza dla x = 11 ; wynosi = 109.68427324268666 ; prawdziwa wartosc = 110\n"
     ]
    }
   ],
   "source": [
    "for i in range(len(x_test)):\n",
    "    print(f\"prognoza dla x = {x_test[i]} ; wynosi = {x_test[i]*a1} ; prawdziwa wartosc = {y_test[i]}\")\n"
   ]
  }
 ],
 "metadata": {
  "kernelspec": {
   "display_name": ".venv",
   "language": "python",
   "name": "python3"
  },
  "language_info": {
   "codemirror_mode": {
    "name": "ipython",
    "version": 3
   },
   "file_extension": ".py",
   "mimetype": "text/x-python",
   "name": "python",
   "nbconvert_exporter": "python",
   "pygments_lexer": "ipython3",
   "version": "3.13.1"
  }
 },
 "nbformat": 4,
 "nbformat_minor": 5
}
