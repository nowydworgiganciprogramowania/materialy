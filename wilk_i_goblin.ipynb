{
  "nbformat": 4,
  "nbformat_minor": 0,
  "metadata": {
    "colab": {
      "provenance": []
    },
    "kernelspec": {
      "name": "python3",
      "display_name": "Python 3"
    },
    "language_info": {
      "name": "python"
    }
  },
  "cells": [
    {
      "cell_type": "code",
      "source": [
        "12 < 15 # mniejszosci\n",
        "15 > 20 # wiekszosci\n",
        "15 == 15\n",
        "15 >= 12\n",
        "15 <= 10\n",
        "20 != 20"
      ],
      "metadata": {
        "colab": {
          "base_uri": "https://localhost:8080/"
        },
        "id": "diXxzeIcVewy",
        "outputId": "837d16e9-1e14-4c86-c3be-dc6235948f91"
      },
      "execution_count": null,
      "outputs": [
        {
          "output_type": "execute_result",
          "data": {
            "text/plain": [
              "False"
            ]
          },
          "metadata": {},
          "execution_count": 17
        }
      ]
    },
    {
      "cell_type": "code",
      "source": [
        "print(12 15) # Fałsz # ==, <, !=, <=\n",
        "print(5 15000) # Prawda # ==, >, >=, <=\n",
        "print(120 120) # Fałsz # ==, >=, !=, <=\n",
        "print(60 15) # Fałsz # ==, <, !=, >=\n",
        "print(25.3421 25.3421) # Prawda # ==, <, !=, <="
      ],
      "metadata": {
        "id": "pTrKTXZY_rXL"
      },
      "execution_count": null,
      "outputs": []
    },
    {
      "cell_type": "code",
      "source": [
        "print(True, 25 < 140 10 == 10)\n",
        "print(True, 100 >= 1 2 > 10)\n",
        "print(False, 25 < 14 10 != 10)\n",
        "print(False, -1 < 3 2 < 9 10 == 15)\n",
        "print(True, 20.05 < 21 < 10 -10 < 20 < 150 <= 150)\n",
        "print(False, 1 < 10 2 < 15 -50 == 42)\n",
        "print(True, 2 == 10)"
      ],
      "metadata": {
        "id": "Biuqifg3_xsG"
      },
      "execution_count": null,
      "outputs": []
    },
    {
      "cell_type": "markdown",
      "source": [
        "Czy wolno mi lub innej osobie skorzystać z rollercoastera w parku rozrywki?\n",
        "Mój wzrost to 175 cm. Na kolejkę wpuszcza się osoby wyższe niż 150 cm.\n",
        "Które osoby mogą skorzystać z kolejki? 115 cm, 149 cm, 150 cm, 151 cm, 210 cm."
      ],
      "metadata": {
        "id": "bPqoyr1d_2Sk"
      }
    },
    {
      "cell_type": "markdown",
      "source": [
        "Przygotuj program, który zapyta użytkownika o 3 różne liczby, każdą z nich\n",
        "wpisz do zmiennej: kolejno a, b, c. Przygotuj trzy zmienne typu bool:\n",
        "czy_a_to_max, czy_b_to_max, czy_c_to_max. Dodatkowe wymaganie: do\n",
        "obliczenia wartości czy_c_to_max wykorzystaj tylko zmienne czy_a_to_max i\n",
        "czy_b_to_max - (nie wykorzystujemy a, b, c)."
      ],
      "metadata": {
        "id": "EV9kgoZS_8oL"
      }
    },
    {
      "cell_type": "code",
      "execution_count": null,
      "metadata": {
        "colab": {
          "base_uri": "https://localhost:8080/"
        },
        "id": "hYHgxQoi1_oC",
        "outputId": "ffbc026c-32d8-4e16-95ea-a2b985ffb983"
      },
      "outputs": [
        {
          "output_type": "stream",
          "name": "stdout",
          "text": [
            "################################################################################\n",
            "Słychać odgłosy z 0 stron, świeci z 3 stron\n",
            "['#', '#', '#']\n",
            "['#', '#', '&']\n",
            "['#', '#', '#']\n",
            "Możliwe ruchy ['lewo', 'dół', 'góra']\n",
            "podaj ruchlewo\n",
            "napotkałeś: złoto\n",
            "zdobyles punkt\n",
            "twoje punkty 1\n",
            "################################################################################\n",
            "Słychać odgłosy z 1 stron, świeci z 1 stron\n",
            "['#', '#', '#']\n",
            "['#', '&', '[]']\n",
            "['#', '#', '#']\n",
            "Możliwe ruchy ['prawo', 'lewo', 'dół', 'góra']\n",
            "podaj ruchlewo\n",
            "napotkałeś: złoto\n",
            "zdobyles punkt\n",
            "twoje punkty 2\n",
            "################################################################################\n",
            "Słychać odgłosy z 2 stron, świeci z 0 stron\n",
            "['#', '#', '#']\n",
            "['&', '[]', '[]']\n",
            "['#', '#', '#']\n",
            "Możliwe ruchy ['prawo', 'dół', 'góra']\n",
            "podaj ruchgóra\n",
            "napotkałeś: goblin\n",
            "przegrana\n"
          ]
        }
      ],
      "source": [
        "import random\n",
        "\n",
        "class Gra:\n",
        "\n",
        "    def __init__(self):\n",
        "        self.miejsca = [\"wilk\",\"goblin\",\"miecz\",\"złoto\",\"złoto\"]\n",
        "        self.liczba_miejsc = len(self.miejsca) - 1\n",
        "        self.mapa = [[self.miejsca[random.randint(0,self.liczba_miejsc)],self.miejsca[random.randint(0,self.liczba_miejsc)],self.miejsca[random.randint(0,self.liczba_miejsc)]],\n",
        "                     [self.miejsca[random.randint(0,self.liczba_miejsc)],self.miejsca[random.randint(0,self.liczba_miejsc)],self.miejsca[random.randint(0,self.liczba_miejsc)]],\n",
        "                     [self.miejsca[random.randint(0,self.liczba_miejsc)],self.miejsca[random.randint(0,self.liczba_miejsc)],self.miejsca[random.randint(0,self.liczba_miejsc)]]]\n",
        "        self.obecny_wiersz = random.randint(1,len(self.mapa)) - 1\n",
        "        self.obecna_kolumna = random.randint(1, len(self.mapa)) -1\n",
        "        self.mapa[self.obecny_wiersz][self.obecna_kolumna] = \"poszukiwacz\"\n",
        "        self.maska = []\n",
        "        for i in range(len(self.mapa)):\n",
        "            wiersz = []\n",
        "            for j in range(len(self.mapa[i])):\n",
        "                wiersz.append(\"#\")\n",
        "            self.maska.append(wiersz)\n",
        "        self.maska[self.obecny_wiersz][self.obecna_kolumna] = \"&\"\n",
        "        self.punkty = 0\n",
        "        self.punkty_zwyciestwo = 5\n",
        "        self.miecz = False\n",
        "\n",
        "    def graj(self):\n",
        "        while True:\n",
        "            print(\"################################################################################\")\n",
        "            mozliwe_ruchy = self.aktualizuj_mozliwe_ruchy()\n",
        "            self.sprawdz_otoczenie(mozliwe_ruchy)\n",
        "            for i in range(len(self.maska)):\n",
        "                print(self.maska[i])\n",
        "            print(f\"Możliwe ruchy {mozliwe_ruchy}\")\n",
        "            while True:\n",
        "                twoj_ruch = input(\"podaj ruch\")\n",
        "                if twoj_ruch in mozliwe_ruchy:\n",
        "                    kontynuowac = self.zwycieski_ruch(twoj_ruch)\n",
        "                    break\n",
        "                else:\n",
        "                    print(\"zła wartość\")\n",
        "\n",
        "            if not kontynuowac:\n",
        "                break\n",
        "            print(f\"twoje punkty {self.punkty}\")\n",
        "            if self.punkty == self.punkty_zwyciestwo:\n",
        "                print(\"zwyciestwo\")\n",
        "                break\n",
        "\n",
        "    def aktualizuj_mozliwe_ruchy(self):\n",
        "        mozliwe_ruchy = []\n",
        "\n",
        "        if self.obecna_kolumna == 0:\n",
        "            mozliwe_ruchy.append(\"prawo\")\n",
        "        elif self.obecna_kolumna > 0 and self.obecna_kolumna < len(self.mapa) -1:\n",
        "            mozliwe_ruchy.append(\"prawo\")\n",
        "            mozliwe_ruchy.append(\"lewo\")\n",
        "        else:\n",
        "            mozliwe_ruchy.append(\"lewo\")\n",
        "\n",
        "        if self.obecny_wiersz == 0:\n",
        "            mozliwe_ruchy.append(\"dół\")\n",
        "        elif self.obecny_wiersz > 0 and self.obecny_wiersz < len(self.mapa) - 1:\n",
        "            mozliwe_ruchy.append(\"dół\")\n",
        "            mozliwe_ruchy.append(\"góra\")\n",
        "        else:\n",
        "            mozliwe_ruchy.append(\"góra\")\n",
        "        return mozliwe_ruchy\n",
        "\n",
        "    def sprawdz_otoczenie(self, mozliwe_ruchy):\n",
        "        otoczenie = []\n",
        "        for i in mozliwe_ruchy:\n",
        "            if i == \"prawo\":\n",
        "                otoczenie.append(self.mapa[self.obecny_wiersz][self.obecna_kolumna +1])\n",
        "            elif i == \"lewo\":\n",
        "                otoczenie.append(self.mapa[self.obecny_wiersz][self.obecna_kolumna -1])\n",
        "            elif i == \"góra\":\n",
        "                otoczenie.append(self.mapa[self.obecny_wiersz -1][self.obecna_kolumna])\n",
        "            elif i ==\"dół\":\n",
        "                otoczenie.append(self.mapa[self.obecny_wiersz +1][self.obecna_kolumna])\n",
        "\n",
        "        wilk_goblin = 0\n",
        "        zloto = 0\n",
        "        for i in otoczenie:\n",
        "            if i == \"wilk\" or i == \"goblin\":\n",
        "                wilk_goblin += 1\n",
        "            if i == \"złoto\":\n",
        "                zloto += 1\n",
        "        print(f\"Słychać odgłosy z {wilk_goblin} stron, świeci z {zloto} stron\")\n",
        "\n",
        "    def zwycieski_ruch(self, ruch):\n",
        "        self.maska[self.obecny_wiersz][self.obecna_kolumna] = \"[]\"\n",
        "        self.mapa[self.obecny_wiersz][self.obecna_kolumna] = \"pusto\"\n",
        "        if ruch == \"góra\":\n",
        "            self.obecny_wiersz -= 1\n",
        "        elif ruch == \"dół\":\n",
        "            self.obecny_wiersz += 1\n",
        "        elif ruch == \"prawo\":\n",
        "            self.obecna_kolumna += 1\n",
        "        elif ruch == \"lewo\":\n",
        "            self.obecna_kolumna -= 1\n",
        "        print(f\"napotkałeś: {self.mapa[self.obecny_wiersz][self.obecna_kolumna]}\")\n",
        "        if self.mapa[self.obecny_wiersz][self.obecna_kolumna] == \"wilk\" or self.mapa[self.obecny_wiersz][self.obecna_kolumna] == \"goblin\":\n",
        "            if not self.miecz:\n",
        "                print(\"przegrana\")\n",
        "                return False\n",
        "            else:\n",
        "                self.maska[self.obecny_wiersz][self.obecna_kolumna] = \"&\"\n",
        "                self.punkty += 1\n",
        "        elif self.mapa[self.obecny_wiersz][self.obecna_kolumna] == \"złoto\":\n",
        "            self.maska[self.obecny_wiersz][self.obecna_kolumna] = \"&\"\n",
        "            print(\"zdobyles punkt\")\n",
        "            self.punkty += 1\n",
        "        elif self.mapa[self.obecny_wiersz][self.obecna_kolumna] == \"miecz\":\n",
        "            self.maska[self.obecny_wiersz][self.obecna_kolumna] = \"&\"\n",
        "            self.miecz = True\n",
        "            print(\"zdobyles miecz\")\n",
        "        else:\n",
        "            self.maska[self.obecny_wiersz][self.obecna_kolumna] = \"&\"\n",
        "            print(\"puste pole\")\n",
        "        return True\n",
        "\n",
        "gra = Gra()\n",
        "gra.graj()"
      ]
    },
    {
      "cell_type": "code",
      "source": [],
      "metadata": {
        "id": "xKD6CLGntrio"
      },
      "execution_count": null,
      "outputs": []
    }
  ]
}