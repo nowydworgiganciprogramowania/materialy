{
  "cells": [
    {
      "cell_type": "code",
      "execution_count": null,
      "metadata": {
        "id": "8ucCL9Xqso56"
      },
      "outputs": [],
      "source": [
        "# całkowicie losowe zachowanie agenta\n",
        "\n",
        "# importuj biblioteke do losowania\n",
        "\n",
        "odleglosc = 0\n",
        "# pętla powtarzająca kod 1000 razy\n",
        "  przeszkoda_gora = # losuj liczbę 0 albo 1\n",
        "  przeszkoda_dol = # losuj liczbę 0 albo 1\n",
        "  przeszkoda_lewo = # losuj liczbę 0 albo 1\n",
        "  przeszkoda_prawo = # losuj liczbę 0 albo 1\n",
        "  isc = # losuj liczbę 0 albo 1\n",
        "  if # wstaw warunek, kiedy pojawiły się wszystkie przeszkody, a agent poszedł do przodu\n",
        "    odleglosc -= 1\n",
        "    odleglosc = max(odleglosc, 0)\n",
        "    print(f\"agent uderzył w ścianę i musiał się confnąć\")\n",
        "  # wstaw warunek, że pojawiły się wszystkie przeszkody i agent nie poszedł do przodu\n",
        "    print(f\"agent zatrzymał się przed ścianą\")\n",
        "  # wstaw warunek, że jedna z przeszkód się nie pojawiła i agent poszedł do przodu\n",
        "    odleglosc +=1\n",
        "    print(f\"agent pokonał {odleglosc}\")\n",
        "  # wstaw warunek, że jedna z przeszkód się nie pojawiła, a mimo to agent nie poszedl\n",
        "    print(f\"agent sie pomyli i zatrzymal \")\n",
        "  # czy pokrylismy wszystkie przypadki ?\n",
        "    print(\"cos innego?\")\n",
        "print(f\"czy agent dotarl do mety {odleglosc==1000}\")"
      ]
    },
    {
      "cell_type": "code",
      "execution_count": null,
      "metadata": {},
      "outputs": [],
      "source": [
        "# instalowanie nowej biblioteki\n",
        "%pip install numpy"
      ]
    },
    {
      "cell_type": "code",
      "execution_count": null,
      "metadata": {
        "colab": {
          "base_uri": "https://localhost:8080/"
        },
        "id": "vOV7jdPQiNjf",
        "outputId": "80acd21e-6ab0-4451-d2dd-b21818d10330"
      },
      "outputs": [
        {
          "name": "stdout",
          "output_type": "stream",
          "text": [
            "Requirement already satisfied: numpy in /usr/local/lib/python3.11/dist-packages (2.0.2)\n"
          ]
        },
        {
          "data": {
            "text/plain": [
              "True"
            ]
          },
          "execution_count": 1,
          "metadata": {},
          "output_type": "execute_result"
        }
      ],
      "source": [
        "from numpy import random\n",
        "isc = bool(random.choice([0,1], p=[0.5, 0.5]))\n",
        "isc"
      ]
    },
    {
      "cell_type": "code",
      "execution_count": null,
      "metadata": {
        "id": "nLFsu5s0i2yI"
      },
      "outputs": [],
      "source": [
        "# trenowanie agenta\n",
        "p_isc = 0.5\n",
        "p_nie_isc = 1 - p_isc\n",
        "\n",
        "odleglosc = 0\n",
        "\n",
        "for i in range(10000):\n",
        "  przeszkoda_gora = random.randint(0,2)\n",
        "  przeszkoda_dol = random.randint(0,2)\n",
        "  przeszkoda_lewo = random.randint(0,2)\n",
        "  przeszkoda_prawo = random.randint(0,2)\n",
        "  isc = bool(random.choice([0,1], p=[p_nie_isc, p_isc]))\n",
        "  if przeszkoda_gora and przeszkoda_dol and przeszkoda_lewo and przeszkoda_prawo and isc:\n",
        "    odleglosc -= 20\n",
        "    p_isc -= 0.01\n",
        "    p_isc = max(p_isc, 0)\n",
        "    p_nie_isc = 1- p_isc\n",
        "    print(f\"agent został ukarany i teraz zastanowi sie zanim uderzy w ściane (prawdopodobieństwo uderzenia spadło do {p_isc}\")\n",
        "  elif przeszkoda_gora and przeszkoda_dol and przeszkoda_lewo and przeszkoda_prawo and not isc:\n",
        "    p_isc -= 0.0001\n",
        "    p_isc = max(p_isc, 0)\n",
        "    p_nie_isc = 1- p_isc\n",
        "    print(f\"agent w ostatniej chwili zatrzymal się przed scianą i ucieszył się że nie boli i to miłe uczucie (prawdopodobieństwo uderzenia spadło do {p_isc}\")\n",
        "  elif not przeszkoda_gora or not przeszkoda_dol or not przeszkoda_lewo or not przeszkoda_prawo:\n",
        "    odleglosc +=1\n",
        "print(odleglosc)"
      ]
    },
    {
      "cell_type": "code",
      "execution_count": null,
      "metadata": {
        "id": "LletQ2MMoisL"
      },
      "outputs": [],
      "source": [
        "# agent wytrenowany czesciowo wytrenowany\n",
        "\n",
        "odleglosc = 0\n",
        "\n",
        "for i in range(10000):\n",
        "  przeszkoda_gora = random.randint(0,2)\n",
        "  przeszkoda_dol = random.randint(0,2)\n",
        "  przeszkoda_lewo = random.randint(0,2)\n",
        "  przeszkoda_prawo = random.randint(0,2)\n",
        "  isc = bool(random.choice([0,1], p=[p_nie_isc, p_isc]))\n",
        "  if przeszkoda_gora and przeszkoda_dol and przeszkoda_lewo and przeszkoda_prawo and isc:\n",
        "    odleglosc -= 20\n",
        "    print(f\"agent uderzył w sciane\")\n",
        "  elif przeszkoda_gora and przeszkoda_dol and przeszkoda_lewo and przeszkoda_prawo and not isc:\n",
        "    print(f\"agent zatrzymal sie przed sciana\")\n",
        "  elif not przeszkoda_gora or not przeszkoda_dol or not przeszkoda_lewo or not przeszkoda_prawo:\n",
        "    odleglosc +=1\n",
        "print(odleglosc)"
      ]
    },
    {
      "cell_type": "code",
      "execution_count": null,
      "metadata": {
        "id": "NIOLLTYaqoLU"
      },
      "outputs": [],
      "source": [
        "# napisz pętle for, która losuje liczby 0 albo 1 dla 4 zmiennych gora dol lewo prawo\n",
        "# wewnatrz pętli dodaj warunki, ktore sprawdzają, czy mozna isc po skosie ( prawy gorny rog, lewy gorny rog itd).\n",
        "# Jezeli chcemy isc do lewego gornego rogu to lewo i gora musza byc true (wylosowac 1), a pozostale zmienne musza byc false (0)"
      ]
    },
    {
      "cell_type": "code",
      "execution_count": null,
      "metadata": {
        "id": "b2BUHoWg4TTy"
      },
      "outputs": [],
      "source": [
        "for i in range(100):\n",
        "  gora = random.randint(0,2)\n",
        "  dol = random.randint(0,2)\n",
        "  lewo = random.randint(0,2)\n",
        "  prawo = random.randint(0,2)\n",
        "  if gora and lewo and not dol and not prawo:\n",
        "    print(\"idz w lewy gorny rog\")\n",
        "  if gora and prawo and not dol and not lewo:\n",
        "    print(\"idz w lewy gorny rog\")\n",
        "  if dol and prawo and not gora and not lewo:\n",
        "    print(\"idz w lewy gorny rog\")\n",
        "  if dol and lewo and not gora and not prawo:\n",
        "    print(\"idz w lewy gorny rog\")"
      ]
    }
  ],
  "metadata": {
    "colab": {
      "provenance": []
    },
    "kernelspec": {
      "display_name": "Python 3",
      "name": "python3"
    },
    "language_info": {
      "name": "python"
    }
  },
  "nbformat": 4,
  "nbformat_minor": 0
}
