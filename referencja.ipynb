{
  "nbformat": 4,
  "nbformat_minor": 0,
  "metadata": {
    "colab": {
      "provenance": []
    },
    "kernelspec": {
      "name": "python3",
      "display_name": "Python 3"
    },
    "language_info": {
      "name": "python"
    }
  },
  "cells": [
    {
      "cell_type": "code",
      "source": [
        "# mutable (typ zmienny)\n",
        "# zmienne odwołują się do tej samej lokalizacji pamięci. Wszelkie zmiany jednej wpływają na pozostałe\n",
        "# list, set and dict\n",
        "\n",
        "lista1 = [1,2,3,4,5]\n",
        "lista2 = lista1\n",
        "\n",
        "lista1.append(6)\n",
        "\n",
        "print(f\"lista1: {lista1} , lista2: {lista2}\")\n",
        "# zmieniliśmy tylko zmienną lista1, a lista2 również sie zmieniła"
      ],
      "metadata": {
        "colab": {
          "base_uri": "https://localhost:8080/"
        },
        "id": "sPNCnnCLNRuO",
        "outputId": "f77b4982-e524-42a6-9ad2-134c2734183f"
      },
      "execution_count": null,
      "outputs": [
        {
          "output_type": "stream",
          "name": "stdout",
          "text": [
            "lista1: [1, 2, 3, 4, 5, 6] , lista2: [1, 2, 3, 4, 5, 6]\n"
          ]
        }
      ]
    },
    {
      "cell_type": "code",
      "source": [
        "# immutable (typ niezmienny)\n",
        "# tworzą nowy obiekt, kiedy ich wartość się zmieni\n",
        "# numbers, boolean, tuples and strings\n",
        "\n",
        "numer1 = 0\n",
        "numer2 = numer1\n",
        "\n",
        "numer2 += 1\n",
        "numer1\n",
        "print(f\"numer1: {numer1} , numer2: {numer2}\")\n",
        "# zmieniliśmy zmienną numer1. Zmienna numer2 się nie zmieniła"
      ],
      "metadata": {
        "colab": {
          "base_uri": "https://localhost:8080/"
        },
        "id": "O9r-HWoNNNTn",
        "outputId": "51d1d596-b7bb-47dd-bd5a-0fd73ec0f91b"
      },
      "execution_count": null,
      "outputs": [
        {
          "output_type": "stream",
          "name": "stdout",
          "text": [
            "numer1: 0 , numer2: 1\n"
          ]
        }
      ]
    },
    {
      "cell_type": "code",
      "execution_count": null,
      "metadata": {
        "colab": {
          "base_uri": "https://localhost:8080/"
        },
        "id": "bYj4KEBixzye",
        "outputId": "a990a6a7-669c-45c3-ca70-26a98e0142ed"
      },
      "outputs": [
        {
          "output_type": "stream",
          "name": "stdout",
          "text": [
            "pierwsza zmiena 'zmieniona' , druga zmiena 'zmieniona'  \n"
          ]
        }
      ],
      "source": [
        "# obiekty niestandardowe (nowe niestandardowy typ obiektu stworzone za pomocą class)\n",
        "\n",
        "class Test:\n",
        "    def __init__(self):\n",
        "        self.zmienna = \"niezmieniona\"\n",
        "    def zmien(self):\n",
        "        self.zmienna = \"zmieniona\"\n",
        "\n",
        "test1 = Test()\n",
        "test2 = test1\n",
        "\n",
        "test1.zmien()\n",
        "print(f\"pierwsza zmienna '{test1.zmienna}' , druga zmienna '{test2.zmienna}'  \")\n",
        "# zmieniliśmy zmienną zmienna obiektu test1 i jednocześnie zmieniliśmy zmienna zmienna obiektu test2"
      ]
    },
    {
      "cell_type": "code",
      "source": [
        "# tworzenie nowej kopi obiektu\n",
        "import copy\n",
        "\n",
        "test3 = Test()\n",
        "\n",
        "test4 = copy.copy(test3)\n",
        "\n",
        "test3.zmien()\n",
        "print(f\"pierwsza zmienna '{test3.zmienna}' , druga zmienna '{test4.zmienna}'  \")\n",
        "# zmieniliśmy zmienną zmienna obiektu test3. Tym razem nie zmieniliśmy zmiennej zmienna obiektu test4"
      ],
      "metadata": {
        "colab": {
          "base_uri": "https://localhost:8080/"
        },
        "id": "NOto0F7AyHLy",
        "outputId": "9e34b43d-5719-4ca0-f1e0-50f0ca97a686"
      },
      "execution_count": null,
      "outputs": [
        {
          "output_type": "stream",
          "name": "stdout",
          "text": [
            "pierwsza zmiena 'zmieniona' , druga zmiena 'niezmieniona'  \n"
          ]
        }
      ]
    },
    {
      "cell_type": "code",
      "source": [
        "# tworzenie kopi zmiennej immutable\n",
        "lista1 = [1,2,3,4,5]\n",
        "lista2 = copy.copy(lista1)\n",
        "\n",
        "lista1.append(6)\n",
        "\n",
        "lista2\n",
        "# zmieniliśmy zmienną lista1. Utworzona kopia lista2 nie została zmieniona"
      ],
      "metadata": {
        "id": "apNPvnINz2QV",
        "colab": {
          "base_uri": "https://localhost:8080/"
        },
        "outputId": "f78e593e-4b15-4c0b-adbe-66bc97fdd06a"
      },
      "execution_count": null,
      "outputs": [
        {
          "output_type": "execute_result",
          "data": {
            "text/plain": [
              "[1, 2, 3, 4, 5]"
            ]
          },
          "metadata": {},
          "execution_count": 5
        }
      ]
    },
    {
      "cell_type": "code",
      "source": [
        "# tworzenie kopi zmiennej immutable z zagnieżdzoną inną zmienną immutable\n",
        "listaZagniezdzona = [1,2,3,4,5]\n",
        "lista1 = [1,2,3,4,5, listaZagniezdzona]\n",
        "lista2 = copy.copy(lista1)\n",
        "\n",
        "lista1.append(6)\n",
        "\n",
        "lista2"
      ],
      "metadata": {
        "id": "YfWzAGfLPnDo",
        "colab": {
          "base_uri": "https://localhost:8080/"
        },
        "outputId": "3833dcc5-034b-4ddf-d689-572c476266a6"
      },
      "execution_count": null,
      "outputs": [
        {
          "output_type": "execute_result",
          "data": {
            "text/plain": [
              "[1, 2, 3, 4, 5, [1, 2, 3, 4, 5]]"
            ]
          },
          "metadata": {},
          "execution_count": 6
        }
      ]
    },
    {
      "cell_type": "code",
      "source": [
        "# modyfikacja zmiennej zagniezdzonej w innej zmiennej\n",
        "listaZagniezdzona.append(6)\n",
        "lista2\n",
        "# zmieniliśmy zmienną listaZagniezdzona. Jednocześnie zmienilismy zawartość lista2"
      ],
      "metadata": {
        "colab": {
          "base_uri": "https://localhost:8080/"
        },
        "id": "ZMT3j4FX7MVc",
        "outputId": "7138e013-b2c3-4b56-dd8e-d83c63c0a70e"
      },
      "execution_count": null,
      "outputs": [
        {
          "output_type": "execute_result",
          "data": {
            "text/plain": [
              "[1, 2, 3, 4, 5, [1, 2, 3, 4, 5, 6]]"
            ]
          },
          "metadata": {},
          "execution_count": 7
        }
      ]
    },
    {
      "cell_type": "code",
      "source": [
        "# tworzenie nowej głębokiej kopi obiektu\n",
        "listaZagniezdzona = [1,2,3,4,5]\n",
        "lista1 = [1,2,3,4,5, listaZagniezdzona]\n",
        "lista2 = copy.deepcopy(lista1)\n",
        "\n",
        "listaZagniezdzona.append(6)\n",
        "\n",
        "lista2\n",
        "# zmieniliśmy zmienną listaZagniezdzona. Tym razem nie zmienilismy zawartości lista2"
      ],
      "metadata": {
        "colab": {
          "base_uri": "https://localhost:8080/"
        },
        "id": "kRHXq6uV7TCl",
        "outputId": "37414b28-3633-47f4-dc32-ec1cd5c5e627"
      },
      "execution_count": null,
      "outputs": [
        {
          "output_type": "execute_result",
          "data": {
            "text/plain": [
              "[1, 2, 3, 4, 5, [1, 2, 3, 4, 5]]"
            ]
          },
          "metadata": {},
          "execution_count": 8
        }
      ]
    },
    {
      "cell_type": "code",
      "source": [],
      "metadata": {
        "id": "xrOXR36n7fs4"
      },
      "execution_count": null,
      "outputs": []
    }
  ]
}